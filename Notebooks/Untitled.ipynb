{
 "cells": [
  {
   "cell_type": "code",
   "execution_count": 2,
   "metadata": {},
   "outputs": [],
   "source": [
    "from vowpalwabbit import pyvw"
   ]
  },
  {
   "cell_type": "code",
   "execution_count": 3,
   "metadata": {},
   "outputs": [],
   "source": [
    "model = pyvw.vw(quiet=True)"
   ]
  },
  {
   "cell_type": "code",
   "execution_count": 4,
   "metadata": {},
   "outputs": [
    {
     "data": {
      "text/plain": [
       "<vowpalwabbit.pyvw.vw at 0x7f5080a7f5b0>"
      ]
     },
     "execution_count": 4,
     "metadata": {},
     "output_type": "execute_result"
    }
   ],
   "source": [
    "model"
   ]
  },
  {
   "cell_type": "code",
   "execution_count": 5,
   "metadata": {},
   "outputs": [],
   "source": [
    "train_examples = [\n",
    "  \"0 | price:.23 sqft:.25 age:.05 2006\",\n",
    "  \"1 | price:.18 sqft:.15 age:.35 1976\",\n",
    "  \"0 | price:.53 sqft:.32 age:.87 1924\",\n",
    "]\n",
    "\n",
    "for example in train_examples:\n",
    "    model.learn(example)\n"
   ]
  },
  {
   "cell_type": "code",
   "execution_count": 10,
   "metadata": {},
   "outputs": [
    {
     "name": "stdout",
     "output_type": "stream",
     "text": [
      "0.0\n"
     ]
    }
   ],
   "source": [
    "test_example = \"| price:.46 sqft:.4 age:.10 1924\"\n",
    "\n",
    "prediction = model.predict(test_example)\n",
    "print(prediction)\n"
   ]
  },
  {
   "cell_type": "code",
   "execution_count": null,
   "metadata": {},
   "outputs": [],
   "source": [
    "model.predict()"
   ]
  },
  {
   "cell_type": "code",
   "execution_count": 43,
   "metadata": {},
   "outputs": [],
   "source": [
    "import math\n",
    "import types\n",
    "from pandas.api.types import is_string_dtype\n",
    "from pandas.api.types import is_numeric_dtype\n",
    "from tqdm import tqdm\n",
    "\n",
    "\n",
    "def df_to_vw_regression(df, filepath='in.txt', sample_weights=None, columns=None, target=None, namespace='namespace'):\n",
    "    if columns is None:\n",
    "        columns = df.columns.tolist()\n",
    "    columns.remove(target)\n",
    "\n",
    "    with open(filepath, 'w') as f:\n",
    "        for _, row in tqdm(df.iterrows()):\n",
    "            if namespace:\n",
    "                f.write('{0} |{1} '.format(row[target], namespace))\n",
    "            else:\n",
    "                f.write('{0} | '.format(row[target]))\n",
    "            last_feature = row.index.values[-1]\n",
    "            for idx, val in row.iteritems():\n",
    "                if idx not in columns:\n",
    "                    continue\n",
    "                if isinstance(val, str):\n",
    "                    f.write('{0}'.format(val.replace(' ', '_').replace(':', '_')))\n",
    "                elif (isinstance(val, float) or isinstance(val, int)):\n",
    "                    if not math.isnan(val):\n",
    "                        f.write('{0}:{1}'.format(idx.replace(' ', '_').replace(':', '_'), val))\n",
    "                    else:\n",
    "                        continue\n",
    "                else:\n",
    "                    f.write('{0}'.format(val.replace(' ', '_').replace(':', '_')))\n",
    "                if idx != last_feature:\n",
    "                    f.write(' ')\n",
    "            f.write('\\n')\n",
    "            \n",
    "def df_to_vw_classification(\n",
    "    df,\n",
    "    filepath='mc.txt',\n",
    "    columns=None,\n",
    "    target=None,\n",
    "    namespace='n'\n",
    "):\n",
    "    if columns is None:\n",
    "        columns = df.columns.tolist()\n",
    "    columns.remove(target)\n",
    "\n",
    "    with open(filepath, 'w') as f:\n",
    "        for _, row in tqdm(df.iterrows()):\n",
    "            if namespace:\n",
    "                f.write(f\"{row[target]}  |{namespace} \")\n",
    "            else:\n",
    "                f.write(f\"{row[target]} | \")\n",
    "            last_feature = columns[-1]\n",
    "            for idx, val in row.iteritems():\n",
    "                if idx not in columns:\n",
    "                    continue\n",
    "                if isinstance(val, str):\n",
    "                    f.write(f\"{val.replace(' ', '_').replace(':', '_')}\")\n",
    "                elif (isinstance(val, float) or isinstance(val, int)):\n",
    "                    if not math.isnan(val):\n",
    "                        f.write(f\"{idx.replace(' ', '_').replace(':', '_')}:{val}\")\n",
    "                    else:\n",
    "                        continue\n",
    "                else:\n",
    "                    f.write(f\"{val.replace(' ', '_').replace(':', '_')}\")\n",
    "                if idx != last_feature:\n",
    "                    f.write(' ')\n",
    "            f.write('\\n')\n",
    "            \n",
    "#df_to_vw_regression(df, filepath='data.txt', target='target')\n",
    "#df_to_vw_classification(df, filepath='data.txt', target='target')"
   ]
  },
  {
   "cell_type": "code",
   "execution_count": 46,
   "metadata": {},
   "outputs": [],
   "source": [
    "from sklearn.datasets import make_blobs ,make_classification\n",
    "from sklearn.model_selection import train_test_split"
   ]
  },
  {
   "cell_type": "code",
   "execution_count": 47,
   "metadata": {},
   "outputs": [],
   "source": [
    "features, labels = make_classification(n_samples=100000)\n"
   ]
  },
  {
   "cell_type": "code",
   "execution_count": 48,
   "metadata": {},
   "outputs": [],
   "source": [
    "import pandas as pd\n",
    "\n",
    "df = pd.concat([pd.DataFrame(features).add_prefix('feature_'),pd.Series(labels,name='target')],axis=1)\n"
   ]
  },
  {
   "cell_type": "code",
   "execution_count": 50,
   "metadata": {},
   "outputs": [],
   "source": [
    "train_x,test_x,train_y,test_y = train_test_split(df.drop('target',axis=1),df['target'],)"
   ]
  },
  {
   "cell_type": "code",
   "execution_count": 53,
   "metadata": {},
   "outputs": [
    {
     "data": {
      "text/plain": [
       "75000"
      ]
     },
     "execution_count": 53,
     "metadata": {},
     "output_type": "execute_result"
    }
   ],
   "source": [
    "len(train_x)"
   ]
  },
  {
   "cell_type": "code",
   "execution_count": 54,
   "metadata": {},
   "outputs": [
    {
     "name": "stderr",
     "output_type": "stream",
     "text": [
      "75000it [00:14, 5294.37it/s]\n"
     ]
    }
   ],
   "source": [
    "df_to_vw_classification(pd.concat([train_x,train_y],axis=1), filepath='data.txt', target='target',namespace=None)"
   ]
  },
  {
   "cell_type": "code",
   "execution_count": 55,
   "metadata": {},
   "outputs": [
    {
     "name": "stdout",
     "output_type": "stream",
     "text": [
      "/bin/sh: 1: vw: not found\r\n"
     ]
    }
   ],
   "source": [
    "# train the dataset\n",
    "!vw data.txt -f r_temp\n"
   ]
  },
  {
   "cell_type": "code",
   "execution_count": 56,
   "metadata": {},
   "outputs": [
    {
     "name": "stderr",
     "output_type": "stream",
     "text": [
      "25000it [00:05, 4514.20it/s]\n"
     ]
    }
   ],
   "source": [
    "df_to_vw_classification(pd.concat([test_x,test_y],axis=1), filepath='test.txt', target='target',namespace=None)"
   ]
  },
  {
   "cell_type": "code",
   "execution_count": 57,
   "metadata": {},
   "outputs": [
    {
     "name": "stdout",
     "output_type": "stream",
     "text": [
      "/bin/sh: 1: vw: not found\r\n"
     ]
    }
   ],
   "source": [
    "#predict on test case\n",
    "! vw -t -i r_temp -p p_out test.txt"
   ]
  },
  {
   "cell_type": "code",
   "execution_count": 59,
   "metadata": {},
   "outputs": [
    {
     "data": {
      "text/plain": [
       "array([1.      , 0.437614, 0.337547, ..., 0.47742 , 0.      , 1.      ])"
      ]
     },
     "execution_count": 59,
     "metadata": {},
     "output_type": "execute_result"
    }
   ],
   "source": [
    "import numpy as np\n",
    "np.genfromtxt('./p_out')"
   ]
  },
  {
   "cell_type": "code",
   "execution_count": 62,
   "metadata": {},
   "outputs": [],
   "source": [
    "predicted = np.round(np.genfromtxt('./p_out')).astype('int')"
   ]
  },
  {
   "cell_type": "code",
   "execution_count": 64,
   "metadata": {},
   "outputs": [],
   "source": [
    "from sklearn.metrics import accuracy_score,classification_report"
   ]
  },
  {
   "cell_type": "code",
   "execution_count": 66,
   "metadata": {},
   "outputs": [
    {
     "name": "stdout",
     "output_type": "stream",
     "text": [
      "              precision    recall  f1-score   support\n",
      "\n",
      "           0       0.88      0.82      0.85     12560\n",
      "           1       0.83      0.89      0.86     12440\n",
      "\n",
      "    accuracy                           0.86     25000\n",
      "   macro avg       0.86      0.86      0.86     25000\n",
      "weighted avg       0.86      0.86      0.86     25000\n",
      "\n"
     ]
    }
   ],
   "source": [
    "print(classification_report(test_y,predicted))"
   ]
  },
  {
   "cell_type": "code",
   "execution_count": 67,
   "metadata": {},
   "outputs": [],
   "source": [
    "from sklearn.ensemble import RandomForestClassifier"
   ]
  },
  {
   "cell_type": "code",
   "execution_count": 71,
   "metadata": {},
   "outputs": [],
   "source": [
    "rf = RandomForestClassifier(max_depth=5)\n",
    "rf.fit(train_x,train_y)\n",
    "rf_predict = rf.predict(test_x)"
   ]
  },
  {
   "cell_type": "code",
   "execution_count": 72,
   "metadata": {},
   "outputs": [
    {
     "name": "stdout",
     "output_type": "stream",
     "text": [
      "              precision    recall  f1-score   support\n",
      "\n",
      "           0       0.91      0.86      0.88     12560\n",
      "           1       0.86      0.91      0.89     12440\n",
      "\n",
      "    accuracy                           0.88     25000\n",
      "   macro avg       0.88      0.88      0.88     25000\n",
      "weighted avg       0.88      0.88      0.88     25000\n",
      "\n"
     ]
    }
   ],
   "source": [
    "print(classification_report(test_y,rf_predict))"
   ]
  },
  {
   "cell_type": "code",
   "execution_count": null,
   "metadata": {},
   "outputs": [],
   "source": []
  }
 ],
 "metadata": {
  "kernelspec": {
   "display_name": "Python 3",
   "language": "python",
   "name": "python3"
  },
  "language_info": {
   "codemirror_mode": {
    "name": "ipython",
    "version": 3
   },
   "file_extension": ".py",
   "mimetype": "text/x-python",
   "name": "python",
   "nbconvert_exporter": "python",
   "pygments_lexer": "ipython3",
   "version": "3.7.6"
  }
 },
 "nbformat": 4,
 "nbformat_minor": 4
}
